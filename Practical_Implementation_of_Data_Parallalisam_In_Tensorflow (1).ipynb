{
  "nbformat": 4,
  "nbformat_minor": 0,
  "metadata": {
    "colab": {
      "provenance": []
    },
    "kernelspec": {
      "name": "python3",
      "display_name": "Python 3"
    },
    "language_info": {
      "name": "python"
    },
    "gpuClass": "standard",
    "accelerator": "GPU"
  },
  "cells": [
    {
      "cell_type": "code",
      "execution_count": 9,
      "metadata": {
        "colab": {
          "base_uri": "https://localhost:8080/"
        },
        "id": "7r9zn4LO6BGI",
        "outputId": "66815698-0196-4098-8a71-5a5127da2564"
      },
      "outputs": [
        {
          "output_type": "stream",
          "name": "stdout",
          "text": [
            "2.9.2\n"
          ]
        }
      ],
      "source": [
        "import tensorflow as tf\n",
        "print(tf.__version__)"
      ]
    },
    {
      "cell_type": "code",
      "source": [
        "device_name = tf.test.gpu_device_name()\n",
        "print(device_name)"
      ],
      "metadata": {
        "colab": {
          "base_uri": "https://localhost:8080/"
        },
        "id": "jotLJdGx6Eg2",
        "outputId": "e32b0eac-c28d-4c81-e3b8-1dade282a51b"
      },
      "execution_count": 10,
      "outputs": [
        {
          "output_type": "stream",
          "name": "stdout",
          "text": [
            "/device:GPU:0\n"
          ]
        }
      ]
    },
    {
      "cell_type": "code",
      "source": [
        "with tf.device(device_name):\n",
        "  if(device_name):\n",
        "    print(\"GPU Enable !\")\n",
        "  else:\n",
        "    print(\"GPU Not Enable !\")"
      ],
      "metadata": {
        "colab": {
          "base_uri": "https://localhost:8080/"
        },
        "id": "2eW8ulVu6cU5",
        "outputId": "8e9bc37a-27b2-4b27-a110-b138630067a9"
      },
      "execution_count": 11,
      "outputs": [
        {
          "output_type": "stream",
          "name": "stdout",
          "text": [
            "GPU Enable !\n"
          ]
        }
      ]
    },
    {
      "cell_type": "code",
      "source": [
        "list_of_physical_devices = tf.config.experimental.list_physical_devices()\n",
        "for i in list_of_physical_devices:\n",
        "  print(i)"
      ],
      "metadata": {
        "colab": {
          "base_uri": "https://localhost:8080/"
        },
        "id": "3OsZpGLN6uEC",
        "outputId": "03a7a1aa-647a-47a1-d288-e6ce709895aa"
      },
      "execution_count": 12,
      "outputs": [
        {
          "output_type": "stream",
          "name": "stdout",
          "text": [
            "PhysicalDevice(name='/physical_device:CPU:0', device_type='CPU')\n",
            "PhysicalDevice(name='/physical_device:GPU:0', device_type='GPU')\n"
          ]
        }
      ]
    },
    {
      "cell_type": "code",
      "source": [
        "with_cuda = tf.test.is_built_with_cuda()\n",
        "if(with_cuda):\n",
        "  print(\"CUDA Present !\")\n",
        "else:\n",
        "  print(\"CUDA Not present !\")"
      ],
      "metadata": {
        "colab": {
          "base_uri": "https://localhost:8080/"
        },
        "id": "Hh6lQePN61nB",
        "outputId": "108e216f-4932-4ca9-a515-5c904bba8abb"
      },
      "execution_count": 13,
      "outputs": [
        {
          "output_type": "stream",
          "name": "stdout",
          "text": [
            "CUDA Present !\n"
          ]
        }
      ]
    },
    {
      "cell_type": "code",
      "source": [
        "strategy = tf.distribute.MirroredStrategy()"
      ],
      "metadata": {
        "id": "vEr1dI4P7O5y"
      },
      "execution_count": 14,
      "outputs": []
    },
    {
      "cell_type": "code",
      "source": [
        "no_of_workers = strategy.num_replicas_in_sync\n",
        "print(\"Number of Workers/GPU cores: \",no_of_workers)"
      ],
      "metadata": {
        "colab": {
          "base_uri": "https://localhost:8080/"
        },
        "id": "Rhlw_g8G7fV1",
        "outputId": "3cfaae63-97dd-4fc9-e076-7efc0dce156d"
      },
      "execution_count": 15,
      "outputs": [
        {
          "output_type": "stream",
          "name": "stdout",
          "text": [
            "Number of Workers/GPU cores:  1\n"
          ]
        }
      ]
    },
    {
      "cell_type": "markdown",
      "source": [
        "### Model Creation and Dataset Collection"
      ],
      "metadata": {
        "id": "gB-5cAXR8lPW"
      }
    },
    {
      "cell_type": "code",
      "source": [
        "(x_train, y_train), (x_test, y_test) = tf.keras.datasets.cifar10.load_data()\n",
        "\n",
        "x_train_scaled = x_train/255.0\n",
        "x_test_scaled = x_test/255.0\n",
        "\n",
        "import keras\n",
        "y_train_categorical = keras.utils.to_categorical(y_train, num_classes=10, dtype='float32')\n",
        "y_test_categorical = keras.utils.to_categorical(y_test, num_classes=10,dtype='float32')\n",
        "\n",
        "def model_definition():\n",
        "  model = keras.Sequential([\n",
        "      keras.layers.Flatten(input_shape=(32,32,3)),\n",
        "      keras.layers.Dense(3000,activation='relu'),\n",
        "      keras.layers.Dense(1000,activation='relu'),\n",
        "      keras.layers.Dense(10,activation='sigmoid')\n",
        "  ])\n",
        "  model.compile(optimizer='sgd',loss='categorical_crossentropy',\n",
        "                metrics='acc')\n",
        "  return model\n",
        "model = model_definition()\n",
        "# print(model.summary())\n",
        "\n",
        "train_tf_dataset = tf.data.Dataset.from_tensor_slices((x_train_scaled,y_train_categorical))\n",
        "test_tf_dataset = tf.data.Dataset.from_tensor_slices((x_test_scaled,y_test_categorical))"
      ],
      "metadata": {
        "colab": {
          "base_uri": "https://localhost:8080/"
        },
        "id": "1TsMx8bY8r7O",
        "outputId": "701bc743-0b66-452d-a03e-1b44172797a1"
      },
      "execution_count": 16,
      "outputs": [
        {
          "output_type": "stream",
          "name": "stdout",
          "text": [
            "Downloading data from https://www.cs.toronto.edu/~kriz/cifar-10-python.tar.gz\n",
            "170498071/170498071 [==============================] - 6s 0us/step\n"
          ]
        }
      ]
    },
    {
      "cell_type": "code",
      "source": [
        "batch_size_per_replica = int(input(\"Enter Batch size to each replica: \"))\n",
        "batch_size = batch_size_per_replica * no_of_workers"
      ],
      "metadata": {
        "colab": {
          "base_uri": "https://localhost:8080/"
        },
        "id": "0lZZCGQ97qmF",
        "outputId": "30479ec0-105e-453b-ab3c-b3ad859e6b5b"
      },
      "execution_count": 17,
      "outputs": [
        {
          "name": "stdout",
          "output_type": "stream",
          "text": [
            "Enter Batch size to each replica: 1000\n"
          ]
        }
      ]
    },
    {
      "cell_type": "code",
      "source": [
        "train_dataset = train_tf_dataset.batch(batch_size).prefetch(tf.data.AUTOTUNE)\n",
        "test_dataset = train_tf_dataset.batch(batch_size)"
      ],
      "metadata": {
        "id": "jnPfuaxd8_Vp"
      },
      "execution_count": 18,
      "outputs": []
    },
    {
      "cell_type": "code",
      "source": [
        "with strategy.scope():\n",
        "  model = model_definition()\n",
        "  model.fit(train_dataset, epochs=5)"
      ],
      "metadata": {
        "colab": {
          "base_uri": "https://localhost:8080/"
        },
        "id": "cv4JruXH8Y7N",
        "outputId": "6814b9fd-0663-44d6-bd38-e38fd6bc7444"
      },
      "execution_count": 19,
      "outputs": [
        {
          "output_type": "stream",
          "name": "stdout",
          "text": [
            "Epoch 1/5\n",
            "50/50 [==============================] - 5s 22ms/step - loss: 2.1315 - acc: 0.2356\n",
            "Epoch 2/5\n",
            "50/50 [==============================] - 1s 24ms/step - loss: 1.9695 - acc: 0.3215\n",
            "Epoch 3/5\n",
            "50/50 [==============================] - 1s 21ms/step - loss: 1.9004 - acc: 0.3466\n",
            "Epoch 4/5\n",
            "50/50 [==============================] - 1s 19ms/step - loss: 1.8581 - acc: 0.3603\n",
            "Epoch 5/5\n",
            "50/50 [==============================] - 1s 19ms/step - loss: 1.8279 - acc: 0.3705\n"
          ]
        }
      ]
    },
    {
      "cell_type": "code",
      "source": [
        "with strategy.scope():\n",
        "  prediction = model.predict(test_dataset)\n",
        "print(prediction.shape)\n",
        "import numpy as np\n",
        "prediction = np.array([np.argmax(i) for i in prediction])\n",
        "print(prediction.shape)"
      ],
      "metadata": {
        "colab": {
          "base_uri": "https://localhost:8080/"
        },
        "id": "z9mh77c891Sv",
        "outputId": "be80df88-6032-4e16-c013-c9dcce726ded"
      },
      "execution_count": 20,
      "outputs": [
        {
          "output_type": "stream",
          "name": "stdout",
          "text": [
            "50/50 [==============================] - 3s 14ms/step\n",
            "(50000, 10)\n",
            "(50000,)\n"
          ]
        }
      ]
    },
    {
      "cell_type": "markdown",
      "source": [
        "                                            -: END :-"
      ],
      "metadata": {
        "id": "tkli8Jn4_ado"
      }
    }
  ]
}