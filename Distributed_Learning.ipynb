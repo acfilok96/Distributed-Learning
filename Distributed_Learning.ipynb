{
  "nbformat": 4,
  "nbformat_minor": 0,
  "metadata": {
    "colab": {
      "name": "Distributed Learning.ipynb",
      "private_outputs": true,
      "provenance": []
    },
    "kernelspec": {
      "name": "python3",
      "display_name": "Python 3"
    },
    "language_info": {
      "name": "python"
    },
    "accelerator": "GPU"
  },
  "cells": [
    {
      "cell_type": "code",
      "execution_count": null,
      "metadata": {
        "id": "dYMKqJBgUDy8"
      },
      "outputs": [],
      "source": [
        "# %tensorflow_version 2.x\n",
        "import tensorflow as tf\n",
        "print(\"Tensorflow Version \",tf.__version__)"
      ]
    },
    {
      "cell_type": "markdown",
      "source": [
        "## **GPU: ONE**"
      ],
      "metadata": {
        "id": "pvEm4_lgVPbB"
      }
    },
    {
      "cell_type": "code",
      "source": [
        "device_name = tf.test.gpu_device_name()\n",
        "print(device_name)"
      ],
      "metadata": {
        "id": "pk6FteIRUM5c"
      },
      "execution_count": null,
      "outputs": []
    },
    {
      "cell_type": "code",
      "source": [
        "if device_name != \"/device:GPU:0\":\n",
        "  print(\"GPU Not Found !\")\n",
        "else:\n",
        "  print(\"GPU Found !\")"
      ],
      "metadata": {
        "id": "DQjyQldyUfcO"
      },
      "execution_count": null,
      "outputs": []
    },
    {
      "cell_type": "code",
      "source": [
        "with tf.device(device_name):\n",
        "  print(\"Ready To Go !\")"
      ],
      "metadata": {
        "id": "UIodgfszU6Bh"
      },
      "execution_count": null,
      "outputs": []
    },
    {
      "cell_type": "markdown",
      "source": [
        "## **GPU: TWO**"
      ],
      "metadata": {
        "id": "TovBQ1eYVUUj"
      }
    },
    {
      "cell_type": "code",
      "source": [
        "strategy = tf.distribute.MirroredStrategy()\n",
        "# print(strategy.__dir__())"
      ],
      "metadata": {
        "id": "fBPW9AIUVGgc"
      },
      "execution_count": null,
      "outputs": []
    },
    {
      "cell_type": "code",
      "source": [
        "print(\"Number of Accelerator: \",strategy.num_replicas_in_sync)"
      ],
      "metadata": {
        "id": "efc5hQyfVkaX"
      },
      "execution_count": null,
      "outputs": []
    },
    {
      "cell_type": "code",
      "source": [
        "with strategy.scope():\n",
        "  print(\"Ready To Go !\")"
      ],
      "metadata": {
        "id": "T2yXsE1BVzLe"
      },
      "execution_count": null,
      "outputs": []
    },
    {
      "cell_type": "markdown",
      "source": [
        "Example"
      ],
      "metadata": {
        "id": "BenXDgelWTR3"
      }
    },
    {
      "cell_type": "code",
      "source": [
        "(x_train,y_train),(x_test,y_test) = tf.keras.datasets.cifar10.load_data()\n",
        "print(x_train.shape,y_train.shape)\n",
        "\n",
        "x_train = x_train / 255.0\n",
        "x_test = x_test / 255.0\n",
        "\n",
        "y_train = y_train.reshape(y_train.shape[0],)\n",
        "y_test = y_test.reshape(y_test.shape[0],)\n",
        "\n",
        "import numpy as np\n",
        "print(\"Number of Classes: \",len(list(set(y_train))))\n",
        "\n",
        "from tensorflow.keras.layers import *\n",
        "from tensorflow.keras.models import *\n",
        "\n",
        "def create_model(input_image_shape=(32,32,3),num_of_classes=10):\n",
        "  resnet_model= tf.keras.applications.resnet50.ResNet50(include_top=False,weights='imagenet',input_shape=input_image_shape)\n",
        "  resnet_model_output=resnet_model.output\n",
        "  x = Flatten()(resnet_model_output)\n",
        "  output_func = Dense(num_of_classes,activation='relu')(x)\n",
        "  model = Model(resnet_model.input,output_func)\n",
        "  model.compile(loss=\"sparse_categorical_crossentropy\",optimizer='adam',metrics=['accuracy'])\n",
        "  return model\n",
        "model_temp = create_model()\n",
        "print(model_temp.summary())\n",
        "\n",
        "strategy = tf.distribute.MirroredStrategy()\n",
        "\n",
        "print(\"Number of Accelerator: \",strategy.num_replicas_in_sync)\n",
        "\n",
        "batch_size = 256\n",
        "epoch = 1\n",
        "\n",
        "BATCH_SIZE =  batch_size*strategy.num_replicas_in_sync\n",
        "print(\"Global Batch Size: \",BATCH_SIZE)\n",
        "\n",
        "with strategy.scope():\n",
        "  model = create_model()\n",
        "  print(\"Ready To Go !\")\n",
        "\n",
        "model.fit(x_train,y_train, epochs = epoch, batch_size = BATCH_SIZE, validation_data=(x_test,y_test))"
      ],
      "metadata": {
        "id": "X_Nko9vShofo"
      },
      "execution_count": null,
      "outputs": []
    },
    {
      "cell_type": "markdown",
      "source": [
        "## **GPU: THREE**"
      ],
      "metadata": {
        "id": "1Q9Y1CLsWd2U"
      }
    },
    {
      "cell_type": "code",
      "source": [
        "# tf.distribute.__dir__()"
      ],
      "metadata": {
        "id": "RIVMw7AjWlJu"
      },
      "execution_count": null,
      "outputs": []
    },
    {
      "cell_type": "code",
      "source": [
        "strategy = tf.distribute.MultiWorkerMirroredStrategy()"
      ],
      "metadata": {
        "id": "XB-mVI18WGHX"
      },
      "execution_count": null,
      "outputs": []
    },
    {
      "cell_type": "code",
      "source": [
        "print(\"Number of Accelerator: \",strategy.num_replicas_in_sync)"
      ],
      "metadata": {
        "id": "PaGqYDv4Wuxf"
      },
      "execution_count": null,
      "outputs": []
    },
    {
      "cell_type": "code",
      "source": [
        "with strategy.scope():\n",
        "  print(\"Ready To Go !\")"
      ],
      "metadata": {
        "id": "paDkZWqyW8B9"
      },
      "execution_count": null,
      "outputs": []
    },
    {
      "cell_type": "markdown",
      "source": [
        "Example"
      ],
      "metadata": {
        "id": "pmMsjr7gid1-"
      }
    },
    {
      "cell_type": "code",
      "source": [
        "(x_train,y_train),(x_test,y_test) = tf.keras.datasets.cifar10.load_data()\n",
        "print(x_train.shape,y_train.shape)\n",
        "\n",
        "x_train = x_train / 255.0\n",
        "x_test = x_test / 255.0\n",
        "\n",
        "y_train = y_train.reshape(y_train.shape[0],)\n",
        "y_test = y_test.reshape(y_test.shape[0],)\n",
        "\n",
        "import numpy as np\n",
        "print(\"Number of Classes: \",len(list(set(y_train))))\n",
        "\n",
        "from tensorflow.keras.layers import *\n",
        "from tensorflow.keras.models import *\n",
        "\n",
        "def create_model(input_image_shape=(32,32,3),num_of_classes=10):\n",
        "  resnet_model= tf.keras.applications.resnet50.ResNet50(include_top=False,weights='imagenet',input_shape=input_image_shape)\n",
        "  resnet_model_output=resnet_model.output\n",
        "  x = Flatten()(resnet_model_output)\n",
        "  output_func = Dense(num_of_classes,activation='relu')(x)\n",
        "  model = Model(resnet_model.input,output_func)\n",
        "  model.compile(loss=\"sparse_categorical_crossentropy\",optimizer='adam',metrics=['accuracy'])\n",
        "  return model\n",
        "model_temp = create_model()\n",
        "print(model_temp.summary())\n",
        "\n",
        "strategy = tf.distribute.MultiWorkerMirroredStrategy()\n",
        "\n",
        "print(\"Number of Accelerator: \",strategy.num_replicas_in_sync)\n",
        "\n",
        "batch_size = 32\n",
        "epoch = 5\n",
        "\n",
        "BATCH_SIZE =  batch_size*strategy.num_replicas_in_sync\n",
        "print(\"Global Batch Size: \",BATCH_SIZE)\n",
        "\n",
        "with strategy.scope():\n",
        "  model = create_model()\n",
        "  print(\"Ready To Go !\")\n",
        "\n",
        "model.fit(x_train,y_train, epochs = epoch, batch_size = BATCH_SIZE, validation_data=(x_test,y_test))"
      ],
      "metadata": {
        "id": "qab7nUaUifFP"
      },
      "execution_count": null,
      "outputs": []
    },
    {
      "cell_type": "markdown",
      "source": [
        "## **GPU: FOUR**"
      ],
      "metadata": {
        "id": "3FYXnxFQkWJq"
      }
    },
    {
      "cell_type": "code",
      "source": [
        "# strategy = tf.distribute.ParameterServerStrategy()"
      ],
      "metadata": {
        "id": "5zjt2OSSkcZw"
      },
      "execution_count": null,
      "outputs": []
    },
    {
      "cell_type": "code",
      "source": [
        "# print(\"Number of Accelerator: \",strategy.num_replicas_in_sync)"
      ],
      "metadata": {
        "id": "OZ77tiv_khCT"
      },
      "execution_count": null,
      "outputs": []
    },
    {
      "cell_type": "code",
      "source": [
        "# with strategy.scope():\n",
        "#   print(\"Ready To Go !\")"
      ],
      "metadata": {
        "id": "TKsmx4kAkg-q"
      },
      "execution_count": null,
      "outputs": []
    },
    {
      "cell_type": "code",
      "source": [
        "# (x_train,y_train),(x_test,y_test) = tf.keras.datasets.cifar10.load_data()\n",
        "# print(x_train.shape,y_train.shape)\n",
        "\n",
        "# x_train = x_train / 255.0\n",
        "# x_test = x_test / 255.0\n",
        "\n",
        "# y_train = y_train.reshape(y_train.shape[0],)\n",
        "# y_test = y_test.reshape(y_test.shape[0],)\n",
        "\n",
        "# import numpy as np\n",
        "# print(\"Number of Classes: \",len(list(set(y_train))))\n",
        "\n",
        "# from tensorflow.keras.layers import *\n",
        "# from tensorflow.keras.models import *\n",
        "\n",
        "# def create_model(input_image_shape=(32,32,3),num_of_classes=10):\n",
        "#   resnet_model= tf.keras.applications.resnet50.ResNet50(include_top=False,weights='imagenet',input_shape=input_image_shape)\n",
        "#   resnet_model_output=resnet_model.output\n",
        "#   x = Flatten()(resnet_model_output)\n",
        "#   output_func = Dense(num_of_classes,activation='relu')(x)\n",
        "#   model = Model(resnet_model.input,output_func)\n",
        "#   model.compile(loss=\"sparse_categorical_crossentropy\",optimizer='adam',metrics=['accuracy'])\n",
        "#   return model\n",
        "# model_temp = create_model()\n",
        "# print(model_temp.summary())\n",
        "\n",
        "# strategy = tf.distribute.MultiWorkerMirroredStrategy()\n",
        "\n",
        "# print(\"Number of Accelerator: \",strategy.num_replicas_in_sync)\n",
        "\n",
        "# batch_size = 32\n",
        "# epoch = 5\n",
        "\n",
        "# BATCH_SIZE =  batch_size*strategy.num_replicas_in_sync\n",
        "# print(\"Global Batch Size: \",BATCH_SIZE)\n",
        "\n",
        "# with strategy.scope():\n",
        "#   model = create_model()\n",
        "#   print(\"Ready To Go !\")\n",
        "\n",
        "# model.fit(x_train,y_train, epochs = epoch, batch_size = BATCH_SIZE, validation_data=(x_test,y_test))"
      ],
      "metadata": {
        "id": "9pH3PeRIkg9B"
      },
      "execution_count": null,
      "outputs": []
    },
    {
      "cell_type": "markdown",
      "source": [
        "# ***TPU***"
      ],
      "metadata": {
        "id": "TxwzEM03k0q9"
      }
    },
    {
      "cell_type": "code",
      "source": [
        "# tpu = tf.distribute.cluster_resolver.TPUClusterResolver()\n",
        "try:\n",
        "  tpu = tf.distribute.cluster_resolver.TPUClusterResolver()  # TPU detection\n",
        "  print('Running on TPU ', tpu.cluster_spec().as_dict()['worker'])\n",
        "except ValueError:\n",
        "  raise BaseException('ERROR: Not connected to a TPU runtime; please see the previous cell in this notebook for instructions!')\n"
      ],
      "metadata": {
        "id": "VraYx5wvXoKG"
      },
      "execution_count": null,
      "outputs": []
    },
    {
      "cell_type": "code",
      "source": [
        "tf.config.experimental_connect_to_cluster(tpu)\n",
        "tf.tpu.experimental.initialize_tpu_system(tpu)\n",
        "tpu_strategy = tf.distribute.TPUStrategy(tpu)"
      ],
      "metadata": {
        "id": "z9oXRL1nW85g"
      },
      "execution_count": null,
      "outputs": []
    },
    {
      "cell_type": "code",
      "source": [
        "print(\"Number of Accelerator: \",tpu_strategy.num_replicas_in_sync)"
      ],
      "metadata": {
        "id": "TRLQakW1XLfG"
      },
      "execution_count": null,
      "outputs": []
    },
    {
      "cell_type": "code",
      "source": [
        "with tpu_strategy.scope():\n",
        "  print(\"Ready To Go !\")"
      ],
      "metadata": {
        "id": "qWuWpgVjYXa1"
      },
      "execution_count": null,
      "outputs": []
    },
    {
      "cell_type": "markdown",
      "source": [
        "Example"
      ],
      "metadata": {
        "id": "yvpE7xJFZbBb"
      }
    },
    {
      "cell_type": "code",
      "source": [
        "(x_train,y_train),(x_test,y_test) = tf.keras.datasets.cifar10.load_data()\n",
        "print(x_train.shape,y_train.shape)"
      ],
      "metadata": {
        "id": "Q22ylirOZWWy"
      },
      "execution_count": null,
      "outputs": []
    },
    {
      "cell_type": "code",
      "source": [
        "x_train = x_train / 255.0\n",
        "x_test = x_test / 255.0"
      ],
      "metadata": {
        "id": "QxYTimwWf2ud"
      },
      "execution_count": null,
      "outputs": []
    },
    {
      "cell_type": "code",
      "source": [
        "y_train = y_train.reshape(y_train.shape[0],)\n",
        "y_test = y_test.reshape(y_test.shape[0],)"
      ],
      "metadata": {
        "id": "YXJDv3xDge9s"
      },
      "execution_count": null,
      "outputs": []
    },
    {
      "cell_type": "code",
      "source": [
        "import numpy as np\n",
        "print(\"Number of Classes: \",len(list(set(y_train))))"
      ],
      "metadata": {
        "id": "EtnG-jOEf_yh"
      },
      "execution_count": null,
      "outputs": []
    },
    {
      "cell_type": "code",
      "source": [
        "from tensorflow.keras.layers import *\n",
        "from tensorflow.keras.models import *"
      ],
      "metadata": {
        "id": "G-B6O_obav1q"
      },
      "execution_count": null,
      "outputs": []
    },
    {
      "cell_type": "code",
      "source": [
        "# tf.keras.__dir__()"
      ],
      "metadata": {
        "id": "h1rVmcdGa4Dg"
      },
      "execution_count": null,
      "outputs": []
    },
    {
      "cell_type": "code",
      "source": [
        "def create_model(input_image_shape=(32,32,3),num_of_classes=10):\n",
        "  resnet_model= tf.keras.applications.resnet50.ResNet50(include_top=False,weights='imagenet',input_shape=input_image_shape)\n",
        "  resnet_model_output=resnet_model.output\n",
        "  x = Flatten()(resnet_model_output)\n",
        "  output_func = Dense(num_of_classes,activation='relu')(x)\n",
        "  model = Model(resnet_model.input,output_func)\n",
        "  model.compile(loss=\"sparse_categorical_crossentropy\",optimizer='adam',metrics=['accuracy'])\n",
        "  return model\n",
        "model_temp = create_model()\n",
        "model_temp.summary()"
      ],
      "metadata": {
        "id": "XONodqFkbM4y"
      },
      "execution_count": null,
      "outputs": []
    },
    {
      "cell_type": "code",
      "source": [
        "# tf.keras.applications.resnet50.__dir__()"
      ],
      "metadata": {
        "id": "RQVodnbMbqo0"
      },
      "execution_count": null,
      "outputs": []
    },
    {
      "cell_type": "code",
      "source": [
        "try:\n",
        "  tpu = tf.distribute.cluster_resolver.TPUClusterResolver()  # TPU detection\n",
        "  print('Running on TPU ', tpu.cluster_spec().as_dict()['worker'])\n",
        "except ValueError:\n",
        "  raise BaseException('ERROR: Not connected to a TPU runtime; please see the previous cell in this notebook for instructions!')\n"
      ],
      "metadata": {
        "id": "iNgWEIAYbr1O"
      },
      "execution_count": null,
      "outputs": []
    },
    {
      "cell_type": "code",
      "source": [
        "tf.config.experimental_connect_to_cluster(tpu)\n",
        "tf.tpu.experimental.initialize_tpu_system(tpu)\n",
        "tpu_strategy = tf.distribute.TPUStrategy(tpu)"
      ],
      "metadata": {
        "id": "Slsabg0-e23Z"
      },
      "execution_count": null,
      "outputs": []
    },
    {
      "cell_type": "code",
      "source": [
        "print(\"Number of Accelerator: \",tpu_strategy.num_replicas_in_sync)"
      ],
      "metadata": {
        "id": "MIYi_TdPe6Wf"
      },
      "execution_count": null,
      "outputs": []
    },
    {
      "cell_type": "code",
      "source": [
        "batch_size = 32\n",
        "epoch = 50"
      ],
      "metadata": {
        "id": "6yh9UkWAfIFv"
      },
      "execution_count": null,
      "outputs": []
    },
    {
      "cell_type": "code",
      "source": [
        "BATCH_SIZE =  batch_size*tpu_strategy.num_replicas_in_sync\n",
        "print(\"Global Batch Size: \",BATCH_SIZE)"
      ],
      "metadata": {
        "id": "ObHJX43ufF3N"
      },
      "execution_count": null,
      "outputs": []
    },
    {
      "cell_type": "code",
      "source": [
        "with tpu_strategy.scope():\n",
        "  model = create_model()\n",
        "  print(\"Ready To Go !\")"
      ],
      "metadata": {
        "id": "0GhBSixFe-Pb"
      },
      "execution_count": null,
      "outputs": []
    },
    {
      "cell_type": "code",
      "source": [
        "model.fit(x_train,y_train, epochs = epoch, batch_size = BATCH_SIZE, validation_data=(x_test,y_test))"
      ],
      "metadata": {
        "id": "3T03hjrgfh0S"
      },
      "execution_count": null,
      "outputs": []
    },
    {
      "cell_type": "code",
      "source": [
        ""
      ],
      "metadata": {
        "id": "9Wi8X9U_hBhj"
      },
      "execution_count": null,
      "outputs": []
    }
  ]
}